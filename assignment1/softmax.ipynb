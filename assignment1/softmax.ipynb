{
 "cells": [
  {
   "cell_type": "markdown",
   "metadata": {},
   "source": [
    "# Softmax exercise\n",
    "\n",
    "*Complete and hand in this completed worksheet (including its outputs and any supporting code outside of the worksheet) with your assignment submission. For more details see the [assignments page](http://vision.stanford.edu/teaching/cs231n/assignments.html) on the course website.*\n",
    "\n",
    "This exercise is analogous to the SVM exercise. You will:\n",
    "\n",
    "- implement a fully-vectorized **loss function** for the Softmax classifier\n",
    "- implement the fully-vectorized expression for its **analytic gradient**\n",
    "- **check your implementation** with numerical gradient\n",
    "- use a validation set to **tune the learning rate and regularization** strength\n",
    "- **optimize** the loss function with **SGD**\n",
    "- **visualize** the final learned weights\n"
   ]
  },
  {
   "cell_type": "code",
   "execution_count": 8,
   "metadata": {},
   "outputs": [
    {
     "name": "stdout",
     "output_type": "stream",
     "text": [
      "The autoreload extension is already loaded. To reload it, use:\n",
      "  %reload_ext autoreload\n"
     ]
    }
   ],
   "source": [
    "import random\n",
    "import numpy as np\n",
    "from cs231n.data_utils import load_CIFAR10\n",
    "import matplotlib.pyplot as plt\n",
    "\n",
    "from __future__ import print_function\n",
    "\n",
    "%matplotlib inline\n",
    "plt.rcParams['figure.figsize'] = (10.0, 8.0) # set default size of plots\n",
    "plt.rcParams['image.interpolation'] = 'nearest'\n",
    "plt.rcParams['image.cmap'] = 'gray'\n",
    "\n",
    "# for auto-reloading extenrnal modules\n",
    "# see http://stackoverflow.com/questions/1907993/autoreload-of-modules-in-ipython\n",
    "%load_ext autoreload\n",
    "%autoreload 2"
   ]
  },
  {
   "cell_type": "code",
   "execution_count": 9,
   "metadata": {},
   "outputs": [
    {
     "name": "stdout",
     "output_type": "stream",
     "text": [
      "Train data shape:  (49000, 3073)\n",
      "Train labels shape:  (49000,)\n",
      "Validation data shape:  (1000, 3073)\n",
      "Validation labels shape:  (1000,)\n",
      "Test data shape:  (1000, 3073)\n",
      "Test labels shape:  (1000,)\n",
      "dev data shape:  (500, 3073)\n",
      "dev labels shape:  (500,)\n"
     ]
    }
   ],
   "source": [
    "def get_CIFAR10_data(num_training=49000, num_validation=1000, num_test=1000, num_dev=500):\n",
    "    \"\"\"\n",
    "    Load the CIFAR-10 dataset from disk and perform preprocessing to prepare\n",
    "    it for the linear classifier. These are the same steps as we used for the\n",
    "    SVM, but condensed to a single function.  \n",
    "    \"\"\"\n",
    "    # Load the raw CIFAR-10 data\n",
    "    cifar10_dir = 'cs231n/datasets/cifar-10-batches-py'\n",
    "    X_train, y_train, X_test, y_test = load_CIFAR10(cifar10_dir)\n",
    "    \n",
    "    # subsample the data\n",
    "    mask = list(range(num_training, num_training + num_validation))\n",
    "    X_val = X_train[mask]\n",
    "    y_val = y_train[mask]\n",
    "    mask = list(range(num_training))\n",
    "    X_train = X_train[mask]\n",
    "    y_train = y_train[mask]\n",
    "    mask = list(range(num_test))\n",
    "    X_test = X_test[mask]\n",
    "    y_test = y_test[mask]\n",
    "    mask = np.random.choice(num_training, num_dev, replace=False)\n",
    "    X_dev = X_train[mask]\n",
    "    y_dev = y_train[mask]\n",
    "    \n",
    "    # Preprocessing: reshape the image data into rows\n",
    "    X_train = np.reshape(X_train, (X_train.shape[0], -1))\n",
    "    X_val = np.reshape(X_val, (X_val.shape[0], -1))\n",
    "    X_test = np.reshape(X_test, (X_test.shape[0], -1))\n",
    "    X_dev = np.reshape(X_dev, (X_dev.shape[0], -1))\n",
    "    \n",
    "    # Normalize the data: subtract the mean image\n",
    "    mean_image = np.mean(X_train, axis = 0)\n",
    "    X_train -= mean_image\n",
    "    X_val -= mean_image\n",
    "    X_test -= mean_image\n",
    "    X_dev -= mean_image\n",
    "    \n",
    "    # add bias dimension and transform into columns\n",
    "    X_train = np.hstack([X_train, np.ones((X_train.shape[0], 1))])\n",
    "    X_val = np.hstack([X_val, np.ones((X_val.shape[0], 1))])\n",
    "    X_test = np.hstack([X_test, np.ones((X_test.shape[0], 1))])\n",
    "    X_dev = np.hstack([X_dev, np.ones((X_dev.shape[0], 1))])\n",
    "    \n",
    "    return X_train, y_train, X_val, y_val, X_test, y_test, X_dev, y_dev\n",
    "\n",
    "\n",
    "# Invoke the above function to get our data.\n",
    "X_train, y_train, X_val, y_val, X_test, y_test, X_dev, y_dev = get_CIFAR10_data()\n",
    "print('Train data shape: ', X_train.shape)\n",
    "print('Train labels shape: ', y_train.shape)\n",
    "print('Validation data shape: ', X_val.shape)\n",
    "print('Validation labels shape: ', y_val.shape)\n",
    "print('Test data shape: ', X_test.shape)\n",
    "print('Test labels shape: ', y_test.shape)\n",
    "print('dev data shape: ', X_dev.shape)\n",
    "print('dev labels shape: ', y_dev.shape)"
   ]
  },
  {
   "cell_type": "markdown",
   "metadata": {},
   "source": [
    "## Softmax Classifier\n",
    "\n",
    "Your code for this section will all be written inside **cs231n/classifiers/softmax.py**. \n"
   ]
  },
  {
   "cell_type": "markdown",
   "metadata": {},
   "source": [
    "$$\n",
    "L_i = -f_{y_i} + log \\sum_j e^{f_j}\n",
    "$$"
   ]
  },
  {
   "cell_type": "code",
   "execution_count": 47,
   "metadata": {},
   "outputs": [
    {
     "name": "stdout",
     "output_type": "stream",
     "text": [
      "loss: 2.345708\n",
      "sanity check: 2.302585\n"
     ]
    }
   ],
   "source": [
    "# First implement the naive softmax loss function with nested loops.\n",
    "# Open the file cs231n/classifiers/softmax.py and implement the\n",
    "# softmax_loss_naive function.\n",
    "\n",
    "from cs231n.classifiers.softmax import softmax_loss_naive\n",
    "import time\n",
    "\n",
    "# Generate a random softmax weight matrix and use it to compute the loss.\n",
    "W = np.random.randn(3073, 10) * 0.0001\n",
    "loss, grad = softmax_loss_naive(W, X_dev, y_dev, 0.0)\n",
    "\n",
    "# As a rough sanity check, our loss should be something close to -log(0.1).\n",
    "print('loss: %f' % loss)\n",
    "print('sanity check: %f' % (-np.log(0.1)))"
   ]
  },
  {
   "cell_type": "markdown",
   "metadata": {},
   "source": [
    "## Inline Question 1:\n",
    "Why do we expect our loss to be close to -log(0.1)? Explain briefly.\n",
    "\n",
    "**Your answer:** \n",
    "\n",
    "\n",
    "Because initially $X$ and $W$ have mean = 0 inner categorical distribution (softmax function) has equal probability for each class.\n",
    "Thus:\n",
    "$$\n",
    "mean(L_i) = mean(-log\\frac{e^{f_j}}{\\sum_j e^{y_j}}) = - log(1/number\\_of\\_classes) = - log(0.1)\n",
    "$$"
   ]
  },
  {
   "cell_type": "code",
   "execution_count": 48,
   "metadata": {},
   "outputs": [
    {
     "name": "stdout",
     "output_type": "stream",
     "text": [
      "numerical: 0.844277 analytic: 0.844277, relative error: 2.697560e-08\n",
      "numerical: -3.003873 analytic: -3.003873, relative error: 2.899330e-08\n",
      "numerical: 0.661244 analytic: 0.661244, relative error: 1.030550e-07\n",
      "numerical: 1.713224 analytic: 1.713224, relative error: 1.244848e-08\n",
      "numerical: -1.570204 analytic: -1.570205, relative error: 3.764971e-08\n",
      "numerical: 1.568064 analytic: 1.568064, relative error: 2.413595e-09\n",
      "numerical: 2.556247 analytic: 2.556247, relative error: 3.449987e-08\n",
      "numerical: 1.996234 analytic: 1.996234, relative error: 1.797562e-08\n",
      "numerical: -4.966901 analytic: -4.966901, relative error: 2.537912e-09\n",
      "numerical: -1.754094 analytic: -1.754094, relative error: 2.167842e-08\n",
      "numerical: 0.740082 analytic: 0.740082, relative error: 2.459183e-08\n",
      "numerical: -1.817522 analytic: -1.817522, relative error: 7.699816e-09\n",
      "numerical: 0.624610 analytic: 0.624610, relative error: 2.589240e-08\n",
      "numerical: -2.275760 analytic: -2.275760, relative error: 2.568189e-09\n",
      "numerical: 1.433276 analytic: 1.433276, relative error: 5.936070e-09\n",
      "numerical: 3.088910 analytic: 3.088909, relative error: 7.279693e-09\n",
      "numerical: 0.747895 analytic: 0.747895, relative error: 7.812990e-09\n",
      "numerical: -2.362200 analytic: -2.362200, relative error: 3.454881e-08\n",
      "numerical: 2.414998 analytic: 2.414998, relative error: 1.713215e-08\n",
      "numerical: 1.285583 analytic: 1.285583, relative error: 5.217551e-08\n"
     ]
    }
   ],
   "source": [
    "# Complete the implementation of softmax_loss_naive and implement a (naive)\n",
    "# version of the gradient that uses nested loops.\n",
    "loss, grad = softmax_loss_naive(W, X_dev, y_dev, 0.0)\n",
    "\n",
    "# As we did for the SVM, use numeric gradient checking as a debugging tool.\n",
    "# The numeric gradient should be close to the analytic gradient.\n",
    "from cs231n.gradient_check import grad_check_sparse\n",
    "f = lambda w: softmax_loss_naive(w, X_dev, y_dev, 0.0)[0]\n",
    "grad_numerical = grad_check_sparse(f, W, grad, 10)\n",
    "\n",
    "# similar to SVM case, do another gradient check with regularization\n",
    "loss, grad = softmax_loss_naive(W, X_dev, y_dev, 5e1)\n",
    "f = lambda w: softmax_loss_naive(w, X_dev, y_dev, 5e1)[0]\n",
    "grad_numerical = grad_check_sparse(f, W, grad, 10)"
   ]
  },
  {
   "cell_type": "code",
   "execution_count": 71,
   "metadata": {},
   "outputs": [
    {
     "name": "stdout",
     "output_type": "stream",
     "text": [
      "naive loss: 2.345708e+00 computed in 0.127765s\n",
      "vectorized loss: 2.345708e+00 computed in 0.005138s\n",
      "Loss difference: 0.000000\n",
      "Gradient difference: 0.000000\n"
     ]
    }
   ],
   "source": [
    "# Now that we have a naive implementation of the softmax loss function and its gradient,\n",
    "# implement a vectorized version in softmax_loss_vectorized.\n",
    "# The two versions should compute the same results, but the vectorized version should be\n",
    "# much faster.\n",
    "tic = time.time()\n",
    "loss_naive, grad_naive = softmax_loss_naive(W, X_dev, y_dev, 0.000005)\n",
    "toc = time.time()\n",
    "print('naive loss: %e computed in %fs' % (loss_naive, toc - tic))\n",
    "\n",
    "from cs231n.classifiers.softmax import softmax_loss_vectorized\n",
    "tic = time.time()\n",
    "loss_vectorized, grad_vectorized = softmax_loss_vectorized(W, X_dev, y_dev, 0.000005)\n",
    "toc = time.time()\n",
    "print('vectorized loss: %e computed in %fs' % (loss_vectorized, toc - tic))\n",
    "\n",
    "# As we did for the SVM, we use the Frobenius norm to compare the two versions\n",
    "# of the gradient.\n",
    "grad_difference = np.linalg.norm(grad_naive - grad_vectorized, ord='fro')\n",
    "print('Loss difference: %f' % np.abs(loss_naive - loss_vectorized))\n",
    "print('Gradient difference: %f' % grad_difference)"
   ]
  },
  {
   "cell_type": "code",
   "execution_count": 75,
   "metadata": {},
   "outputs": [
    {
     "name": "stdout",
     "output_type": "stream",
     "text": [
      "\n",
      "#\n",
      "learning_rate 1e-07\n",
      "regularization_strength 25000.0\n",
      "#\n",
      "iteration 0 / 1500: loss 783.491499\n",
      "iteration 100 / 1500: loss 287.670816\n",
      "iteration 200 / 1500: loss 106.233054\n",
      "iteration 300 / 1500: loss 40.420227\n",
      "iteration 400 / 1500: loss 16.169640\n",
      "iteration 500 / 1500: loss 7.374556\n",
      "iteration 600 / 1500: loss 4.060944\n",
      "iteration 700 / 1500: loss 2.687469\n",
      "iteration 800 / 1500: loss 2.264262\n",
      "iteration 900 / 1500: loss 2.309010\n",
      "iteration 1000 / 1500: loss 2.183184\n",
      "iteration 1100 / 1500: loss 2.116006\n",
      "iteration 1200 / 1500: loss 2.119045\n",
      "iteration 1300 / 1500: loss 2.094528\n",
      "iteration 1400 / 1500: loss 2.007740\n",
      "\n",
      "#\n",
      "learning_rate 1e-07\n",
      "regularization_strength 50000.0\n",
      "#\n",
      "iteration 0 / 1500: loss 1546.628819\n",
      "iteration 100 / 1500: loss 208.213914\n",
      "iteration 200 / 1500: loss 29.744622\n",
      "iteration 300 / 1500: loss 5.716047\n",
      "iteration 400 / 1500: loss 2.652199\n",
      "iteration 500 / 1500: loss 2.193423\n",
      "iteration 600 / 1500: loss 2.141164\n",
      "iteration 700 / 1500: loss 2.159785\n",
      "iteration 800 / 1500: loss 2.138117\n",
      "iteration 900 / 1500: loss 2.124906\n",
      "iteration 1000 / 1500: loss 2.027299\n",
      "iteration 1100 / 1500: loss 2.073583\n",
      "iteration 1200 / 1500: loss 2.083167\n",
      "iteration 1300 / 1500: loss 2.123877\n",
      "iteration 1400 / 1500: loss 2.067724\n",
      "\n",
      "#\n",
      "learning_rate 5e-07\n",
      "regularization_strength 25000.0\n",
      "#\n",
      "iteration 0 / 1500: loss 777.558302\n",
      "iteration 100 / 1500: loss 7.219518\n",
      "iteration 200 / 1500: loss 2.581218\n",
      "iteration 300 / 1500: loss 2.040518\n",
      "iteration 400 / 1500: loss 2.112900\n",
      "iteration 500 / 1500: loss 2.211291\n",
      "iteration 600 / 1500: loss 2.164603\n",
      "iteration 700 / 1500: loss 1.946053\n",
      "iteration 800 / 1500: loss 2.782062\n",
      "iteration 900 / 1500: loss 2.506185\n",
      "iteration 1000 / 1500: loss 2.525040\n",
      "iteration 1100 / 1500: loss 2.158716\n",
      "iteration 1200 / 1500: loss 2.084514\n",
      "iteration 1300 / 1500: loss 2.243946\n",
      "iteration 1400 / 1500: loss 2.307320\n",
      "\n",
      "#\n",
      "learning_rate 5e-07\n",
      "regularization_strength 50000.0\n",
      "#\n",
      "iteration 0 / 1500: loss 1509.552210\n",
      "iteration 100 / 1500: loss 2.370133\n",
      "iteration 200 / 1500: loss 2.399127\n",
      "iteration 300 / 1500: loss 2.338528\n",
      "iteration 400 / 1500: loss 2.282388\n",
      "iteration 500 / 1500: loss 2.308693\n",
      "iteration 600 / 1500: loss 2.250290\n",
      "iteration 700 / 1500: loss 2.191525\n",
      "iteration 800 / 1500: loss 2.194417\n",
      "iteration 900 / 1500: loss 2.248798\n",
      "iteration 1000 / 1500: loss 2.269116\n",
      "iteration 1100 / 1500: loss 2.836767\n",
      "iteration 1200 / 1500: loss 2.148729\n",
      "iteration 1300 / 1500: loss 2.162307\n",
      "iteration 1400 / 1500: loss 1.818759\n",
      "lr 1.000000e-07 reg 2.500000e+04 train accuracy: 0.327122 val accuracy: 0.345000\n",
      "lr 1.000000e-07 reg 5.000000e+04 train accuracy: 0.283327 val accuracy: 0.294000\n",
      "lr 5.000000e-07 reg 2.500000e+04 train accuracy: 0.279959 val accuracy: 0.289000\n",
      "lr 5.000000e-07 reg 5.000000e+04 train accuracy: 0.247408 val accuracy: 0.257000\n",
      "best validation accuracy achieved during cross-validation: 0.345000\n"
     ]
    }
   ],
   "source": [
    "# Use the validation set to tune hyperparameters (regularization strength and\n",
    "# learning rate). You should experiment with different ranges for the learning\n",
    "# rates and regularization strengths; if you are careful you should be able to\n",
    "# get a classification accuracy of over 0.35 on the validation set.\n",
    "from cs231n.classifiers import Softmax\n",
    "results = {}\n",
    "best_val = -1\n",
    "best_softmax = None\n",
    "learning_rates = [1e-7, 5e-7]\n",
    "regularization_strengths = [2.5e4, 5e4]\n",
    "\n",
    "################################################################################\n",
    "# TODO:                                                                        #\n",
    "# Use the validation set to set the learning rate and regularization strength. #\n",
    "# This should be identical to the validation that you did for the SVM; save    #\n",
    "# the best trained softmax classifer in best_softmax.                          #\n",
    "################################################################################\n",
    "for learning_rate in learning_rates:\n",
    "    for regularization_strength in regularization_strengths:\n",
    "        print('\\n#')\n",
    "        print('learning_rate', learning_rate)\n",
    "        print('regularization_strength', regularization_strength)\n",
    "        print('#')\n",
    "        classifier = Softmax()\n",
    "        classifier.train(X_train, y_train, \n",
    "                         learning_rate=learning_rate, \n",
    "                         reg=regularization_strength,\n",
    "                         num_iters=1500, \n",
    "                         verbose=True,\n",
    "                        )\n",
    "        trained_accuracy = np.mean(y_train == classifier.predict(X_train))\n",
    "        val_accuracy = np.mean(y_val == classifier.predict(X_val))        \n",
    "        results[(\n",
    "            learning_rate, regularization_strength,\n",
    "        )] = (\n",
    "            trained_accuracy, \n",
    "            val_accuracy,\n",
    "        )\n",
    "        if best_val < val_accuracy:\n",
    "            best_val = val_accuracy\n",
    "            best_softmax = classifier\n",
    "################################################################################\n",
    "#                              END OF YOUR CODE                                #\n",
    "################################################################################\n",
    "    \n",
    "# Print out results.\n",
    "for lr, reg in sorted(results):\n",
    "    train_accuracy, val_accuracy = results[(lr, reg)]\n",
    "    print('lr %e reg %e train accuracy: %f val accuracy: %f' % (\n",
    "                lr, reg, train_accuracy, val_accuracy))\n",
    "    \n",
    "print('best validation accuracy achieved during cross-validation: %f' % best_val)"
   ]
  },
  {
   "cell_type": "code",
   "execution_count": 76,
   "metadata": {},
   "outputs": [
    {
     "name": "stdout",
     "output_type": "stream",
     "text": [
      "softmax on raw pixels final test set accuracy: 0.326000\n"
     ]
    }
   ],
   "source": [
    "# evaluate on test set\n",
    "# Evaluate the best softmax on test set\n",
    "y_test_pred = best_softmax.predict(X_test)\n",
    "test_accuracy = np.mean(y_test == y_test_pred)\n",
    "print('softmax on raw pixels final test set accuracy: %f' % (test_accuracy, ))"
   ]
  },
  {
   "cell_type": "code",
   "execution_count": 77,
   "metadata": {},
   "outputs": [
    {
     "data": {
      "image/png": "[encoded data removed]",
      "text/plain": [
       "<matplotlib.figure.Figure at 0x7f95677b4390>"
      ]
     },
     "metadata": {},
     "output_type": "display_data"
    }
   ],
   "source": [
    "# Visualize the learned weights for each class\n",
    "w = best_softmax.W[:-1,:] # strip out the bias\n",
    "w = w.reshape(32, 32, 3, 10)\n",
    "\n",
    "w_min, w_max = np.min(w), np.max(w)\n",
    "\n",
    "classes = ['plane', 'car', 'bird', 'cat', 'deer', 'dog', 'frog', 'horse', 'ship', 'truck']\n",
    "for i in range(10):\n",
    "    plt.subplot(2, 5, i + 1)\n",
    "    \n",
    "    # Rescale the weights to be between 0 and 255\n",
    "    wimg = 255.0 * (w[:, :, :, i].squeeze() - w_min) / (w_max - w_min)\n",
    "    plt.imshow(wimg.astype('uint8'))\n",
    "    plt.axis('off')\n",
    "    plt.title(classes[i])"
   ]
  },
  {
   "cell_type": "code",
   "execution_count": null,
   "metadata": {
    "collapsed": true
   },
   "outputs": [],
   "source": []
  }
 ],
 "metadata": {
  "kernelspec": {
   "display_name": "Python 3",
   "language": "python",
   "name": "python3"
  },
  "language_info": {
   "codemirror_mode": {
    "name": "ipython",
    "version": 3
   },
   "file_extension": ".py",
   "mimetype": "text/x-python",
   "name": "python",
   "nbconvert_exporter": "python",
   "pygments_lexer": "ipython3",
   "version": "3.6.3"
  }
 },
 "nbformat": 4,
 "nbformat_minor": 1
}
