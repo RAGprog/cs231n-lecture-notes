{
 "cells": [
  {
   "cell_type": "markdown",
   "metadata": {},
   "source": [
    "# Softmax exercise\n",
    "\n",
    "*Complete and hand in this completed worksheet (including its outputs and any supporting code outside of the worksheet) with your assignment submission. For more details see the [assignments page](http://vision.stanford.edu/teaching/cs231n/assignments.html) on the course website.*\n",
    "\n",
    "This exercise is analogous to the SVM exercise. You will:\n",
    "\n",
    "- implement a fully-vectorized **loss function** for the Softmax classifier\n",
    "- implement the fully-vectorized expression for its **analytic gradient**\n",
    "- **check your implementation** with numerical gradient\n",
    "- use a validation set to **tune the learning rate and regularization** strength\n",
    "- **optimize** the loss function with **SGD**\n",
    "- **visualize** the final learned weights\n"
   ]
  },
  {
   "cell_type": "code",
   "execution_count": 1,
   "metadata": {},
   "outputs": [],
   "source": [
    "import random\n",
    "import numpy as np\n",
    "from cs231n.data_utils import load_CIFAR10\n",
    "import matplotlib.pyplot as plt\n",
    "\n",
    "from __future__ import print_function\n",
    "\n",
    "%matplotlib inline\n",
    "plt.rcParams['figure.figsize'] = (10.0, 8.0) # set default size of plots\n",
    "plt.rcParams['image.interpolation'] = 'nearest'\n",
    "plt.rcParams['image.cmap'] = 'gray'\n",
    "\n",
    "# for auto-reloading extenrnal modules\n",
    "# see http://stackoverflow.com/questions/1907993/autoreload-of-modules-in-ipython\n",
    "%load_ext autoreload\n",
    "%autoreload 2"
   ]
  },
  {
   "cell_type": "code",
   "execution_count": 2,
   "metadata": {},
   "outputs": [
    {
     "name": "stdout",
     "output_type": "stream",
     "text": [
      "Train data shape:  (49000, 3073)\n",
      "Train labels shape:  (49000,)\n",
      "Validation data shape:  (1000, 3073)\n",
      "Validation labels shape:  (1000,)\n",
      "Test data shape:  (1000, 3073)\n",
      "Test labels shape:  (1000,)\n",
      "dev data shape:  (500, 3073)\n",
      "dev labels shape:  (500,)\n"
     ]
    }
   ],
   "source": [
    "def get_CIFAR10_data(num_training=49000, num_validation=1000, num_test=1000, num_dev=500):\n",
    "    \"\"\"\n",
    "    Load the CIFAR-10 dataset from disk and perform preprocessing to prepare\n",
    "    it for the linear classifier. These are the same steps as we used for the\n",
    "    SVM, but condensed to a single function.  \n",
    "    \"\"\"\n",
    "    # Load the raw CIFAR-10 data\n",
    "    cifar10_dir = 'cs231n/datasets/cifar-10-batches-py'\n",
    "    X_train, y_train, X_test, y_test = load_CIFAR10(cifar10_dir)\n",
    "    \n",
    "    # subsample the data\n",
    "    mask = list(range(num_training, num_training + num_validation))\n",
    "    X_val = X_train[mask]\n",
    "    y_val = y_train[mask]\n",
    "    mask = list(range(num_training))\n",
    "    X_train = X_train[mask]\n",
    "    y_train = y_train[mask]\n",
    "    mask = list(range(num_test))\n",
    "    X_test = X_test[mask]\n",
    "    y_test = y_test[mask]\n",
    "    mask = np.random.choice(num_training, num_dev, replace=False)\n",
    "    X_dev = X_train[mask]\n",
    "    y_dev = y_train[mask]\n",
    "    \n",
    "    # Preprocessing: reshape the image data into rows\n",
    "    X_train = np.reshape(X_train, (X_train.shape[0], -1))\n",
    "    X_val = np.reshape(X_val, (X_val.shape[0], -1))\n",
    "    X_test = np.reshape(X_test, (X_test.shape[0], -1))\n",
    "    X_dev = np.reshape(X_dev, (X_dev.shape[0], -1))\n",
    "    \n",
    "    # Normalize the data: subtract the mean image\n",
    "    mean_image = np.mean(X_train, axis = 0)\n",
    "    X_train -= mean_image\n",
    "    X_val -= mean_image\n",
    "    X_test -= mean_image\n",
    "    X_dev -= mean_image\n",
    "    \n",
    "    # add bias dimension and transform into columns\n",
    "    X_train = np.hstack([X_train, np.ones((X_train.shape[0], 1))])\n",
    "    X_val = np.hstack([X_val, np.ones((X_val.shape[0], 1))])\n",
    "    X_test = np.hstack([X_test, np.ones((X_test.shape[0], 1))])\n",
    "    X_dev = np.hstack([X_dev, np.ones((X_dev.shape[0], 1))])\n",
    "    \n",
    "    return X_train, y_train, X_val, y_val, X_test, y_test, X_dev, y_dev\n",
    "\n",
    "\n",
    "# Invoke the above function to get our data.\n",
    "X_train, y_train, X_val, y_val, X_test, y_test, X_dev, y_dev = get_CIFAR10_data()\n",
    "print('Train data shape: ', X_train.shape)\n",
    "print('Train labels shape: ', y_train.shape)\n",
    "print('Validation data shape: ', X_val.shape)\n",
    "print('Validation labels shape: ', y_val.shape)\n",
    "print('Test data shape: ', X_test.shape)\n",
    "print('Test labels shape: ', y_test.shape)\n",
    "print('dev data shape: ', X_dev.shape)\n",
    "print('dev labels shape: ', y_dev.shape)"
   ]
  },
  {
   "cell_type": "markdown",
   "metadata": {},
   "source": [
    "## Softmax Classifier\n",
    "\n",
    "Your code for this section will all be written inside **cs231n/classifiers/softmax.py**. \n"
   ]
  },
  {
   "cell_type": "markdown",
   "metadata": {},
   "source": [
    "$$\n",
    "L_i = -f_{y_i} + log \\sum_j e^{f_j}\n",
    "$$"
   ]
  },
  {
   "cell_type": "code",
   "execution_count": 3,
   "metadata": {},
   "outputs": [
    {
     "name": "stdout",
     "output_type": "stream",
     "text": [
      "loss: 2.398304\n",
      "sanity check: 2.302585\n"
     ]
    }
   ],
   "source": [
    "# First implement the naive softmax loss function with nested loops.\n",
    "# Open the file cs231n/classifiers/softmax.py and implement the\n",
    "# softmax_loss_naive function.\n",
    "\n",
    "from cs231n.classifiers.softmax import softmax_loss_naive\n",
    "import time\n",
    "\n",
    "# Generate a random softmax weight matrix and use it to compute the loss.\n",
    "W = np.random.randn(3073, 10) * 0.0001\n",
    "loss, grad = softmax_loss_naive(W, X_dev, y_dev, 0.0)\n",
    "\n",
    "# As a rough sanity check, our loss should be something close to -log(0.1).\n",
    "print('loss: %f' % loss)\n",
    "print('sanity check: %f' % (-np.log(0.1)))"
   ]
  },
  {
   "cell_type": "markdown",
   "metadata": {},
   "source": [
    "## Inline Question 1:\n",
    "Why do we expect our loss to be close to -log(0.1)? Explain briefly.\n",
    "\n",
    "**Your answer:** \n",
    "\n",
    "\n",
    "Because initially $X$ and $W$ have mean = 0 inner categorical distribution (softmax function) has equal probability for each class.\n",
    "Thus:\n",
    "$$\n",
    "mean(L_i) = mean(-log\\frac{e^{f_j}}{\\sum_j e^{y_j}}) = - log(1/number\\_of\\_classes) = - log(0.1)\n",
    "$$"
   ]
  },
  {
   "cell_type": "code",
   "execution_count": 4,
   "metadata": {},
   "outputs": [
    {
     "name": "stdout",
     "output_type": "stream",
     "text": [
      "numerical: 1.617808 analytic: 1.617808, relative error: 4.691552e-08\n",
      "numerical: 3.409211 analytic: 3.409211, relative error: 7.454114e-09\n",
      "numerical: -2.391061 analytic: -2.391061, relative error: 2.795177e-08\n",
      "numerical: 0.360223 analytic: 0.360223, relative error: 1.011852e-09\n",
      "numerical: 1.191565 analytic: 1.191565, relative error: 1.003437e-08\n",
      "numerical: 0.147612 analytic: 0.147612, relative error: 2.254818e-07\n",
      "numerical: 0.219801 analytic: 0.219801, relative error: 1.246302e-07\n",
      "numerical: -2.279283 analytic: -2.279283, relative error: 5.509348e-09\n",
      "numerical: 0.652616 analytic: 0.652616, relative error: 5.786774e-08\n",
      "numerical: -0.958676 analytic: -0.958676, relative error: 1.331018e-08\n",
      "numerical: 1.461864 analytic: 1.461864, relative error: 5.432430e-08\n",
      "numerical: 1.611650 analytic: 1.611650, relative error: 3.635080e-08\n",
      "numerical: -1.683001 analytic: -1.683001, relative error: 1.169177e-08\n",
      "numerical: 1.635636 analytic: 1.635635, relative error: 5.505049e-08\n",
      "numerical: 2.608148 analytic: 2.608148, relative error: 1.224492e-08\n",
      "numerical: 0.785262 analytic: 0.785262, relative error: 4.856924e-08\n",
      "numerical: -1.876761 analytic: -1.876762, relative error: 2.544329e-08\n",
      "numerical: 3.802986 analytic: 3.802986, relative error: 1.896227e-08\n",
      "numerical: -0.478247 analytic: -0.478247, relative error: 4.664491e-08\n",
      "numerical: 1.741047 analytic: 1.741047, relative error: 3.792013e-08\n"
     ]
    }
   ],
   "source": [
    "# Complete the implementation of softmax_loss_naive and implement a (naive)\n",
    "# version of the gradient that uses nested loops.\n",
    "loss, grad = softmax_loss_naive(W, X_dev, y_dev, 0.0)\n",
    "\n",
    "# As we did for the SVM, use numeric gradient checking as a debugging tool.\n",
    "# The numeric gradient should be close to the analytic gradient.\n",
    "from cs231n.gradient_check import grad_check_sparse\n",
    "f = lambda w: softmax_loss_naive(w, X_dev, y_dev, 0.0)[0]\n",
    "grad_numerical = grad_check_sparse(f, W, grad, 10)\n",
    "\n",
    "# similar to SVM case, do another gradient check with regularization\n",
    "loss, grad = softmax_loss_naive(W, X_dev, y_dev, 5e1)\n",
    "f = lambda w: softmax_loss_naive(w, X_dev, y_dev, 5e1)[0]\n",
    "grad_numerical = grad_check_sparse(f, W, grad, 10)"
   ]
  },
  {
   "cell_type": "code",
   "execution_count": 5,
   "metadata": {},
   "outputs": [
    {
     "name": "stdout",
     "output_type": "stream",
     "text": [
      "naive loss: 2.398304e+00 computed in 0.128395s\n",
      "vectorized loss: 2.398304e+00 computed in 0.012475s\n",
      "Loss difference: 0.000000\n",
      "Gradient difference: 0.000000\n"
     ]
    }
   ],
   "source": [
    "# Now that we have a naive implementation of the softmax loss function and its gradient,\n",
    "# implement a vectorized version in softmax_loss_vectorized.\n",
    "# The two versions should compute the same results, but the vectorized version should be\n",
    "# much faster.\n",
    "tic = time.time()\n",
    "loss_naive, grad_naive = softmax_loss_naive(W, X_dev, y_dev, 0.000005)\n",
    "toc = time.time()\n",
    "print('naive loss: %e computed in %fs' % (loss_naive, toc - tic))\n",
    "\n",
    "from cs231n.classifiers.softmax import softmax_loss_vectorized\n",
    "tic = time.time()\n",
    "loss_vectorized, grad_vectorized = softmax_loss_vectorized(W, X_dev, y_dev, 0.000005)\n",
    "toc = time.time()\n",
    "print('vectorized loss: %e computed in %fs' % (loss_vectorized, toc - tic))\n",
    "\n",
    "# As we did for the SVM, we use the Frobenius norm to compare the two versions\n",
    "# of the gradient.\n",
    "grad_difference = np.linalg.norm(grad_naive - grad_vectorized, ord='fro')\n",
    "print('Loss difference: %f' % np.abs(loss_naive - loss_vectorized))\n",
    "print('Gradient difference: %f' % grad_difference)"
   ]
  },
  {
   "cell_type": "code",
   "execution_count": 6,
   "metadata": {},
   "outputs": [
    {
     "name": "stdout",
     "output_type": "stream",
     "text": [
      "\n",
      "#\n",
      "learning_rate 1e-07\n",
      "regularization_strength 25000.0\n",
      "#\n",
      "iteration 0 / 1500: loss 771.249091\n",
      "iteration 100 / 1500: loss 282.698114\n",
      "iteration 200 / 1500: loss 105.473012\n",
      "iteration 300 / 1500: loss 39.540603\n",
      "iteration 400 / 1500: loss 15.807770\n",
      "iteration 500 / 1500: loss 6.823686\n",
      "iteration 600 / 1500: loss 3.937375\n",
      "iteration 700 / 1500: loss 2.871500\n",
      "iteration 800 / 1500: loss 2.107952\n",
      "iteration 900 / 1500: loss 2.100126\n",
      "iteration 1000 / 1500: loss 1.777365\n",
      "iteration 1100 / 1500: loss 2.002794\n",
      "iteration 1200 / 1500: loss 1.937557\n",
      "iteration 1300 / 1500: loss 1.727722\n",
      "iteration 1400 / 1500: loss 1.899078\n",
      "\n",
      "#\n",
      "learning_rate 1e-07\n",
      "regularization_strength 50000.0\n",
      "#\n",
      "iteration 0 / 1500: loss 1560.218610\n",
      "iteration 100 / 1500: loss 209.886539\n",
      "iteration 200 / 1500: loss 30.031017\n",
      "iteration 300 / 1500: loss 5.794698\n",
      "iteration 400 / 1500: loss 2.631693\n",
      "iteration 500 / 1500: loss 2.213578\n",
      "iteration 600 / 1500: loss 2.096099\n",
      "iteration 700 / 1500: loss 2.043242\n",
      "iteration 800 / 1500: loss 2.243055\n",
      "iteration 900 / 1500: loss 2.044673\n",
      "iteration 1000 / 1500: loss 2.331667\n",
      "iteration 1100 / 1500: loss 2.132263\n",
      "iteration 1200 / 1500: loss 2.002235\n",
      "iteration 1300 / 1500: loss 2.163395\n",
      "iteration 1400 / 1500: loss 2.174670\n",
      "\n",
      "#\n",
      "learning_rate 5e-07\n",
      "regularization_strength 25000.0\n",
      "#\n",
      "iteration 0 / 1500: loss 780.012363\n",
      "iteration 100 / 1500: loss 7.171205\n",
      "iteration 200 / 1500: loss 2.158529\n",
      "iteration 300 / 1500: loss 2.175014\n",
      "iteration 400 / 1500: loss 2.133895\n",
      "iteration 500 / 1500: loss 2.037722\n",
      "iteration 600 / 1500: loss 2.524336\n",
      "iteration 700 / 1500: loss 2.415645\n",
      "iteration 800 / 1500: loss 2.262346\n",
      "iteration 900 / 1500: loss 2.252650\n",
      "iteration 1000 / 1500: loss 2.218206\n",
      "iteration 1100 / 1500: loss 2.323351\n",
      "iteration 1200 / 1500: loss 2.192917\n",
      "iteration 1300 / 1500: loss 2.366462\n",
      "iteration 1400 / 1500: loss 2.167075\n",
      "\n",
      "#\n",
      "learning_rate 5e-07\n",
      "regularization_strength 50000.0\n",
      "#\n",
      "iteration 0 / 1500: loss 1538.378816\n",
      "iteration 100 / 1500: loss 2.086087\n",
      "iteration 200 / 1500: loss 2.269833\n",
      "iteration 300 / 1500: loss 2.481761\n",
      "iteration 400 / 1500: loss 2.180135\n",
      "iteration 500 / 1500: loss 2.303638\n",
      "iteration 600 / 1500: loss 2.254269\n",
      "iteration 700 / 1500: loss 2.399879\n",
      "iteration 800 / 1500: loss 2.193813\n",
      "iteration 900 / 1500: loss 2.513852\n",
      "iteration 1000 / 1500: loss 2.395803\n",
      "iteration 1100 / 1500: loss 2.683795\n",
      "iteration 1200 / 1500: loss 2.218959\n",
      "iteration 1300 / 1500: loss 2.282853\n",
      "iteration 1400 / 1500: loss 2.536470\n",
      "lr 1.000000e-07 reg 2.500000e+04 train accuracy: 0.318122 val accuracy: 0.321000\n",
      "lr 1.000000e-07 reg 5.000000e+04 train accuracy: 0.288980 val accuracy: 0.307000\n",
      "lr 5.000000e-07 reg 2.500000e+04 train accuracy: 0.262694 val accuracy: 0.281000\n",
      "lr 5.000000e-07 reg 5.000000e+04 train accuracy: 0.211653 val accuracy: 0.217000\n",
      "best validation accuracy achieved during cross-validation: 0.321000\n"
     ]
    }
   ],
   "source": [
    "# Use the validation set to tune hyperparameters (regularization strength and\n",
    "# learning rate). You should experiment with different ranges for the learning\n",
    "# rates and regularization strengths; if you are careful you should be able to\n",
    "# get a classification accuracy of over 0.35 on the validation set.\n",
    "from cs231n.classifiers import Softmax\n",
    "results = {}\n",
    "best_val = -1\n",
    "best_softmax = None\n",
    "learning_rates = [1e-7, 5e-7]\n",
    "regularization_strengths = [2.5e4, 5e4]\n",
    "\n",
    "################################################################################\n",
    "# TODO:                                                                        #\n",
    "# Use the validation set to set the learning rate and regularization strength. #\n",
    "# This should be identical to the validation that you did for the SVM; save    #\n",
    "# the best trained softmax classifer in best_softmax.                          #\n",
    "################################################################################\n",
    "for learning_rate in learning_rates:\n",
    "    for regularization_strength in regularization_strengths:\n",
    "        print('\\n#')\n",
    "        print('learning_rate', learning_rate)\n",
    "        print('regularization_strength', regularization_strength)\n",
    "        print('#')\n",
    "        classifier = Softmax()\n",
    "        classifier.train(X_train, y_train, \n",
    "                         learning_rate=learning_rate, \n",
    "                         reg=regularization_strength,\n",
    "                         num_iters=1500, \n",
    "                         verbose=True,\n",
    "                        )\n",
    "        trained_accuracy = np.mean(y_train == classifier.predict(X_train))\n",
    "        val_accuracy = np.mean(y_val == classifier.predict(X_val))        \n",
    "        results[(\n",
    "            learning_rate, regularization_strength,\n",
    "        )] = (\n",
    "            trained_accuracy, \n",
    "            val_accuracy,\n",
    "        )\n",
    "        if best_val < val_accuracy:\n",
    "            best_val = val_accuracy\n",
    "            best_softmax = classifier\n",
    "################################################################################\n",
    "#                              END OF YOUR CODE                                #\n",
    "################################################################################\n",
    "    \n",
    "# Print out results.\n",
    "for lr, reg in sorted(results):\n",
    "    train_accuracy, val_accuracy = results[(lr, reg)]\n",
    "    print('lr %e reg %e train accuracy: %f val accuracy: %f' % (\n",
    "                lr, reg, train_accuracy, val_accuracy))\n",
    "    \n",
    "print('best validation accuracy achieved during cross-validation: %f' % best_val)"
   ]
  },
  {
   "cell_type": "code",
   "execution_count": 7,
   "metadata": {},
   "outputs": [
    {
     "name": "stdout",
     "output_type": "stream",
     "text": [
      "softmax on raw pixels final test set accuracy: 0.315000\n"
     ]
    }
   ],
   "source": [
    "# evaluate on test set\n",
    "# Evaluate the best softmax on test set\n",
    "y_test_pred = best_softmax.predict(X_test)\n",
    "test_accuracy = np.mean(y_test == y_test_pred)\n",
    "print('softmax on raw pixels final test set accuracy: %f' % (test_accuracy, ))"
   ]
  },
  {
   "cell_type": "code",
   "execution_count": 8,
   "metadata": {},
   "outputs": [
    {
     "data": {
      "image/png": "[encoded data removed]",
      "text/plain": [
       "<matplotlib.figure.Figure at 0x7fcde7d2d240>"
      ]
     },
     "metadata": {},
     "output_type": "display_data"
    }
   ],
   "source": [
    "# Visualize the learned weights for each class\n",
    "w = best_softmax.W[:-1,:] # strip out the bias\n",
    "w = w.reshape(32, 32, 3, 10)\n",
    "\n",
    "w_min, w_max = np.min(w), np.max(w)\n",
    "\n",
    "classes = ['plane', 'car', 'bird', 'cat', 'deer', 'dog', 'frog', 'horse', 'ship', 'truck']\n",
    "for i in range(10):\n",
    "    plt.subplot(2, 5, i + 1)\n",
    "    \n",
    "    # Rescale the weights to be between 0 and 255\n",
    "    wimg = 255.0 * (w[:, :, :, i].squeeze() - w_min) / (w_max - w_min)\n",
    "    plt.imshow(wimg.astype('uint8'))\n",
    "    plt.axis('off')\n",
    "    plt.title(classes[i])"
   ]
  }
 ],
 "metadata": {
  "kernelspec": {
   "display_name": "Python 3",
   "language": "python",
   "name": "python3"
  },
  "language_info": {
   "codemirror_mode": {
    "name": "ipython",
    "version": 3
   },
   "file_extension": ".py",
   "mimetype": "text/x-python",
   "name": "python",
   "nbconvert_exporter": "python",
   "pygments_lexer": "ipython3",
   "version": "3.6.3"
  }
 },
 "nbformat": 4,
 "nbformat_minor": 1
}
