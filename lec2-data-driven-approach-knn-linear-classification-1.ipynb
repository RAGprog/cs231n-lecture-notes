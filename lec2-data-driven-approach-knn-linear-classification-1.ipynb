{
 "cells": [
  {
   "cell_type": "markdown",
   "metadata": {},
   "source": [
    "# CS231n Winter 2016: Lecture 2\n",
    "## Topics: Data-driven approach, kNN, Linear Classification 1\n",
    "\n",
    "video:\n",
    "https://www.youtube.com/watch?v=8inugqHkfvE"
   ]
  },
  {
   "cell_type": "code",
   "execution_count": 1,
   "metadata": {},
   "outputs": [
    {
     "data": {
      "text/html": [
       "<iframe width=\"560\" height=\"315\" src=\"https://www.youtube.com/embed/8inugqHkfvE?rel=0&amp;controls=1&amp;showinfo=0\" frameborder=\"0\" allowfullscreen></iframe>"
      ],
      "text/plain": [
       "<IPython.core.display.HTML object>"
      ]
     },
     "execution_count": 1,
     "metadata": {},
     "output_type": "execute_result"
    }
   ],
   "source": [
    "from IPython.display import HTML\n",
    "HTML('<iframe width=\"560\" height=\"315\" src=\"https://www.youtube.com/embed/8inugqHkfvE?rel=0&amp;controls=1&amp;showinfo=0\" frameborder=\"0\" allowfullscreen></iframe>')"
   ]
  },
  {
   "cell_type": "markdown",
   "metadata": {},
   "source": [
    "## Preconditions\n",
    "Used Data sets: **CIFAR-10**\n",
    "- 10 labels\n",
    "- 50,000 training images (32x32)\n",
    "- 10,000 test images\n",
    "- keras has it (`from keras.datasets import cifar10`)\n",
    "- https://github.com/tensorflow/models/tree/master/tutorials/image/cifar10 or https://github.com/Hvass-Labs/TensorFlow-Tutorials/blob/master/cifar10.py - fetch for tensorflow"
   ]
  },
  {
   "cell_type": "code",
   "execution_count": 2,
   "metadata": {},
   "outputs": [
    {
     "name": "stderr",
     "output_type": "stream",
     "text": [
      "Using TensorFlow backend.\n",
      "/opt/conda/lib/python3.6/importlib/_bootstrap.py:219: RuntimeWarning: compiletime version 3.5 of module 'tensorflow.python.framework.fast_tensor_util' does not match runtime version 3.6\n",
      "  return f(*args, **kwds)\n"
     ]
    }
   ],
   "source": [
    "%matplotlib inline\n",
    "\n",
    "from keras.datasets import cifar10\n",
    "import matplotlib\n",
    "import matplotlib.pyplot as plt\n",
    "import numpy as np\n",
    "from pprint import pprint\n",
    "\n",
    "(x_train, y_train), (x_test, y_test) = cifar10.load_data()"
   ]
  },
  {
   "cell_type": "markdown",
   "metadata": {},
   "source": [
    "## Common Classifier"
   ]
  },
  {
   "cell_type": "code",
   "execution_count": 3,
   "metadata": {
    "collapsed": true
   },
   "outputs": [],
   "source": [
    "def train(train_images, train_labels):\n",
    "    # build model\n",
    "    return model\n",
    "\n",
    "def predict(model, test_images):\n",
    "    # predict\n",
    "    return test_labels"
   ]
  },
  {
   "cell_type": "markdown",
   "metadata": {},
   "source": [
    "## Nearest Neighbour Classifier\n",
    "property\n",
    "- accuracy on training set is 100%\n",
    "- speed: \n",
    "$$\n",
    "distance_speed = width*height*num_trained_samples \n",
    "$$\n",
    "$$\n",
    "atgmin_speed = num_trained_samples\n",
    "$$\n",
    "$$\n",
    "speed = distance_speed\n",
    "$$\n",
    "- libs FLANN - fast library for aproximate NN"
   ]
  },
  {
   "cell_type": "code",
   "execution_count": 4,
   "metadata": {
    "collapsed": true
   },
   "outputs": [],
   "source": [
    "class NearestNeighbour:\n",
    "    def train(self, X, y):\n",
    "        \"\"\"\n",
    "        train model with example and labels\n",
    "        \"\"\"\n",
    "        # remember all images\n",
    "        assert len(X.shape) == 4\n",
    "        assert len(y.shape) == 2\n",
    "        self.X_trained = X\n",
    "        self.y_trained = y\n",
    "        return self\n",
    "\n",
    "    def predict(self, X):\n",
    "        \"\"\"\n",
    "        Predict labels for items\n",
    "        \"\"\"\n",
    "        \n",
    "        if len(X.shape) == 3:\n",
    "            X = np.expand_dims(X, axis=0)\n",
    "            \n",
    "        assert len(X.shape) == 4\n",
    "        \n",
    "        for instance in X:\n",
    "            # - manhattan distance (L1 distance)\n",
    "            distance = np.sum(np.abs(self.X_trained - instance), axis = (1,2,3))\n",
    "            min_index = np.argmin(distance)\n",
    "            yield self.y_trained[min_index][0]"
   ]
  },
  {
   "cell_type": "code",
   "execution_count": 5,
   "metadata": {},
   "outputs": [
    {
     "name": "stdout",
     "output_type": "stream",
     "text": [
      "CPU times: user 2.56 s, sys: 1.06 s, total: 3.62 s\n",
      "Wall time: 3.63 s\n"
     ]
    },
    {
     "data": {
      "text/plain": [
       "[8, 8, 1, 0, 4, 2, 2, 5, 0, 8]"
      ]
     },
     "execution_count": 5,
     "metadata": {},
     "output_type": "execute_result"
    }
   ],
   "source": [
    "nn = NearestNeighbour().train(x_train, y_train)\n",
    "%time list(nn.predict(x_test[:10]))"
   ]
  },
  {
   "cell_type": "markdown",
   "metadata": {},
   "source": [
    "### kNN\n",
    "\n",
    "big differences to Nearest Neighbour are\n",
    "- get k-instances the most likely \n",
    "- make majority vote\n",
    "\n",
    "property:\n",
    "- for k > 1, accuracy on training set is < 100%\n",
    "- k - hyper parameter\n",
    "- in comparison to Nearest Neighbour it smoothes boundaries\n",
    "\n",
    "practice\n",
    "- never used on images\n",
    "- terrible performance on test time\n",
    "- distance metrics on level of whole images can be very unintuitive"
   ]
  },
  {
   "cell_type": "code",
   "execution_count": 6,
   "metadata": {
    "collapsed": true
   },
   "outputs": [],
   "source": [
    "class KNearestNeighbour:\n",
    "    def __init__(self, k=5):\n",
    "        self.k = k\n",
    "\n",
    "    def train(self, X, y):\n",
    "        \"\"\"\n",
    "        train model with example and labels\n",
    "        \"\"\"\n",
    "        # remember all images\n",
    "        assert len(X.shape) == 4\n",
    "        assert len(y.shape) == 2\n",
    "        self.X_trained = X\n",
    "        self.y_trained = y\n",
    "        return self\n",
    "\n",
    "    def predict(self, X):\n",
    "        \"\"\"\n",
    "        Predict labels for items\n",
    "        \n",
    "        it will return the most likely class, probability of each class and list of the most likely images\n",
    "        \"\"\"\n",
    "        \n",
    "        if len(X.shape) == 3:\n",
    "            X = np.expand_dims(X, axis=0)\n",
    "            \n",
    "        assert len(X.shape) == 4\n",
    "        \n",
    "        for instance in X:\n",
    "            # - manhattan distance (L1 distance)\n",
    "            distance = np.sum(np.abs(self.X_trained - instance), axis = (1,2,3))\n",
    "            min_indexes = distance.argsort()[:self.k]\n",
    "            counts = np.bincount(self.y_trained[min_indexes].ravel())\n",
    "            yield np.argmax(counts), counts / counts.sum(), min_indexes"
   ]
  },
  {
   "cell_type": "code",
   "execution_count": 7,
   "metadata": {},
   "outputs": [
    {
     "name": "stdout",
     "output_type": "stream",
     "text": [
      "CPU times: user 2.86 s, sys: 930 ms, total: 3.79 s\n",
      "Wall time: 3.8 s\n",
      "[(0,\n",
      "  array([ 0.4,  0. ,  0. ,  0. ,  0. ,  0.2,  0. ,  0. ,  0.4]),\n",
      "  array([26608, 48381,  5699, 31426,   557])),\n",
      " (1,\n",
      "  array([ 0. ,  0.6,  0. ,  0. ,  0. ,  0. ,  0. ,  0. ,  0.4]),\n",
      "  array([17592, 30047, 13109, 44448, 13239])),\n",
      " (8,\n",
      "  array([ 0. ,  0.2,  0. ,  0. ,  0. ,  0. ,  0. ,  0. ,  0.6,  0.2]),\n",
      "  array([30047,  5675, 37678,   860, 33626])),\n",
      " (0,\n",
      "  array([ 0.6,  0. ,  0. ,  0. ,  0. ,  0. ,  0. ,  0. ,  0.4]),\n",
      "  array([49245, 44350, 24315,   115, 24164])),\n",
      " (0,\n",
      "  array([ 0.4,  0. ,  0. ,  0.2,  0.2,  0.2]),\n",
      "  array([10296, 23874, 41484,  9413, 46812])),\n",
      " (2,\n",
      "  array([ 0.2,  0. ,  0.4,  0. ,  0.2,  0. ,  0.2]),\n",
      "  array([13752, 46902, 27651, 26976, 31536])),\n",
      " (4,\n",
      "  array([ 0. ,  0. ,  0.4,  0. ,  0.6]),\n",
      "  array([10683, 32803,  6924,   804, 11582])),\n",
      " (0,\n",
      "  array([ 0.2,  0. ,  0.2,  0. ,  0.2,  0.2,  0.2]),\n",
      "  array([32511,  7074, 15886, 23549,  7365])),\n",
      " (0,\n",
      "  array([ 0.8,  0. ,  0. ,  0. ,  0. ,  0.2]),\n",
      "  array([48350, 46116, 10397,  5665, 42241])),\n",
      " (8,\n",
      "  array([ 0. ,  0.2,  0. ,  0. ,  0. ,  0. ,  0. ,  0. ,  0.8]),\n",
      "  array([20958,  6139, 29290, 38525, 49851]))]\n"
     ]
    }
   ],
   "source": [
    "nn = KNearestNeighbour().train(x_train, y_train)\n",
    "%time res = list(nn.predict(x_test[:10]))\n",
    "pprint(res)"
   ]
  },
  {
   "cell_type": "code",
   "execution_count": 8,
   "metadata": {},
   "outputs": [
    {
     "data": {
      "image/png": "[encoded data removed]",
      "text/plain": [
       "<matplotlib.figure.Figure at 0x7f3c7197b780>"
      ]
     },
     "metadata": {},
     "output_type": "display_data"
    }
   ],
   "source": [
    "# TODO: draw test image and then a list of the most likely images (like in lecture)\n",
    "plt.imshow(x_test[0]), plt.imshow(x_train[res[0][2][2]]);"
   ]
  },
  {
   "cell_type": "markdown",
   "metadata": {},
   "source": [
    "## Tuning hyper parameters\n",
    "\n",
    "use cross validation on folds and forget about test set until we will ready to make finaly estimation"
   ]
  },
  {
   "cell_type": "code",
   "execution_count": 9,
   "metadata": {
    "collapsed": true
   },
   "outputs": [],
   "source": [
    "# TODO: try cross validatino on cifar-10\n",
    "# - show graphics _accuracy by k_ and animate it"
   ]
  },
  {
   "cell_type": "code",
   "execution_count": null,
   "metadata": {
    "collapsed": true
   },
   "outputs": [],
   "source": []
  }
 ],
 "metadata": {
  "kernelspec": {
   "display_name": "Python 3",
   "language": "python",
   "name": "python3"
  },
  "language_info": {
   "codemirror_mode": {
    "name": "ipython",
    "version": 3
   },
   "file_extension": ".py",
   "mimetype": "text/x-python",
   "name": "python",
   "nbconvert_exporter": "python",
   "pygments_lexer": "ipython3",
   "version": "3.6.3"
  }
 },
 "nbformat": 4,
 "nbformat_minor": 2
}
