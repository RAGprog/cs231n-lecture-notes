{
 "cells": [
  {
   "cell_type": "markdown",
   "metadata": {},
   "source": [
    "# CS231n Winter 2016: Lecture 5\n",
    "## Topics\n",
    "- Neural Network\n",
    "- Activation functions\n",
    "- Data Preprocessing\n",
    "- Weight Initialization\n",
    "- Batch normalization\n",
    "- Sanity check\n",
    "- Process Visualization\n",
    "\n",
    "## Sources\n",
    "- video: https://www.youtube.com/watch?v=gYpoJMlgyXA\n",
    "- original notes by Andrej Karpathy:\n",
    "  - http://cs231n.github.io/neural-networks-2/"
   ]
  },
  {
   "cell_type": "code",
   "execution_count": 1,
   "metadata": {},
   "outputs": [
    {
     "data": {
      "text/html": [
       "<iframe width=\"560\" height=\"315\" src=\"https://www.youtube.com/embed/gYpoJMlgyXA?rel=0&amp;controls=1&amp;showinfo=0\" frameborder=\"0\" allowfullscreen></iframe>"
      ],
      "text/plain": [
       "<IPython.core.display.HTML object>"
      ]
     },
     "execution_count": 1,
     "metadata": {},
     "output_type": "execute_result"
    }
   ],
   "source": [
    "id = 'gYpoJMlgyXA'\n",
    "from IPython.display import HTML\n",
    "HTML(f'<iframe width=\"560\" height=\"315\" src=\"https://www.youtube.com/embed/{id}?rel=0&amp;controls=1&amp;showinfo=0\" frameborder=\"0\" allowfullscreen></iframe>')"
   ]
  },
  {
   "cell_type": "code",
   "execution_count": 17,
   "metadata": {
    "collapsed": true
   },
   "outputs": [],
   "source": [
    "import math\n",
    "import matplotlib.pyplot as plt\n",
    "import numpy as np"
   ]
  },
  {
   "cell_type": "markdown",
   "metadata": {},
   "source": [
    "## Sigmoid activation function\n",
    "### Problems\n",
    "- it kills gradient for big values (saturated neurouns \"kills\" the gradients)\n",
    "- sigmoid outputs are not zero-centered\n",
    "  - example: when the input for a neuron (x) is always positive all coeficiens of W will be all positive or negative\n",
    "  $$\n",
    "  f(\\sum_i w_i x_i + b)\n",
    "  $$\n",
    "  and optimization will look like zig-zag path, slow convergence\n",
    "  TODO: I don't really get why is it\n",
    "- exp is bit compute exptensive"
   ]
  },
  {
   "cell_type": "code",
   "execution_count": 65,
   "metadata": {},
   "outputs": [
    {
     "data": {
      "text/plain": [
       "[<matplotlib.lines.Line2D at 0x7fe220d5ce80>]"
      ]
     },
     "execution_count": 65,
     "metadata": {},
     "output_type": "execute_result"
    },
    {
     "data": {
      "image/png": "[encoded data removed]",
      "text/plain": [
       "<matplotlib.figure.Figure at 0x7fe220dc2470>"
      ]
     },
     "metadata": {},
     "output_type": "display_data"
    }
   ],
   "source": [
    "class Neuron:\n",
    "    def __init__(self, inputs = 3):\n",
    "        self.weights = np.random.randn(inputs,)\n",
    "        self.bias = np.random.rand()\n",
    "\n",
    "    def forward(self, inputs):\n",
    "        \"\"\" assume inputs and weights are 1-D numpy arrays and bias is a number \"\"\"\n",
    "        value = inputs * self.weights\n",
    "        if len(inputs.shape) > 1:\n",
    "            value = np.sum(value, axis=-1)\n",
    "        cell_body_sum = value + self.bias\n",
    "        firing_rate = 1.0 / (1.0 + np.exp(-cell_body_sum)) # sigmoid activation function\n",
    "        return firing_rate\n",
    "\n",
    "data = np.linspace(-10, 10)\n",
    "plt.plot(data, Neuron(1).forward(data))"
   ]
  },
  {
   "cell_type": "markdown",
   "metadata": {},
   "source": [
    "## Relu\n",
    "- Solves almost all problems of Sigmoid. Except\n",
    "### Problems\n",
    "- Not zero-centered output\n",
    "- An annoyance - gradient of value less then 0 is 0.\n",
    "  - dead Relu - it could comes on initial state - when W define that way that it only produce 0 gradient on input data\n",
    "  - or it could become dead Relu after some iteration with high learning rate (step) optimization could set such high \n",
    "  values for W so it gets dead gradient and will never update. Andrej told that it possible to get 10% dead neurons \n",
    "  that way.\n",
    "  - decrease changes - init bies = 0.01 (slightly positive numbers) - controversial point\n",
    "  \n",
    "## LeakyRelu\n",
    "- Solve probem of `die relu`.\n",
    "\n",
    "## PPeLU (Parameteric Rectifier)\n",
    "$$\n",
    "f(x) = max(\\alpha x, x)\n",
    "$$\n",
    "and is learned $\\alpha$ by backprop\n",
    "\n",
    "## Exponential Linear Units (ELU)\n",
    "\n",
    "## Maxout Neuron\n"
   ]
  },
  {
   "cell_type": "markdown",
   "metadata": {},
   "source": [
    "## Preprocessing\n",
    "- zero-centering\n",
    "```\n",
    "X -= np.mean(X, axis=0)\n",
    "```\n",
    "- normalize\n",
    "```\n",
    "X /= np.std(X, axis=0)\n",
    "```\n",
    "- decorrelat (PCA)\n",
    "    ```python\n",
    "    # get the data covariance matrix\n",
    "    cov = np.dot(X.T, X) / X.shape[0]\n",
    "    # the columns of `U` are the eigenvectors and `S` is a 1-D array of the singular values.\n",
    "    U,S,V = np.linalg.svd(cov)\n",
    "    # To decorrelate the data, we project the original (but zero-centered) data into the eigenbasis\n",
    "    # Notice that the columns of `U` are a set of orthonormal vectors, so they can be regarded as basis vectors\n",
    "    Xrot = np.dot(X, U) # decorrelate the data\n",
    "    # covariance matrix of Xrot would be diagonal\n",
    "    ```\n",
    "  - [SVD](https://en.wikipedia.org/wiki/Positive-definite_matrix#Negative-definite.2C_semidefinite_and_indefinite_matrices)\n",
    "  - reduce dimensionality `np.linalg.svd` returns U -- the eigenvector columns are sorted by their eigenvalues,\n",
    "  - so we could get top few eigenvectors and discarding the rest:\n",
    "  ```python\n",
    "  Xrot_reduced = np.dot(X, U[:,:100])\n",
    "  ```\n",
    "  - this way we would keep data which have the most variance\n",
    "\n",
    "- whitening - covariance matrix is identity matrix, normalize scale \n",
    "```python\n",
    "# divide by the eigenvalues (which are square roots of the singular values)\n",
    "Xwhite = Xrot / np.sqrt(S + 1e-5)\n",
    "```\n",
    "  - if the input data is a multivariable gaussian this tranformation makes them mean with zero and identity covariance matrix.\n",
    "  - Warning: Exaggerating noise.\n",
    "\n",
    "### For images commonly use zero-centering\n",
    "- subtract the mean image [width, height, rgb]\n",
    "- subtract per-channel mean [r,g,b]"
   ]
  },
  {
   "cell_type": "markdown",
   "metadata": {},
   "source": [
    "## Weight initialization\n",
    "\n",
    "### Shouldn't do\n",
    "- $W = 0$\n",
    "- small numbers\n",
    "```\n",
    "W = 0.001 * np.random.randn(D, H)\n",
    "```\n",
    "it works ok for small network but for big one you will get a problem: \n",
    "  - if we start with `mean = 0.0` and `std = 0.01` after each layer `mean` becomes more centered and `std -> 0`. and finally collapses to the `0`. Almost the same will be for gradient\n",
    "- std = 1.0\n",
    "```\n",
    "W = 1.0 * np.random.randn(D, H)\n",
    "```\n",
    "  - if we start with `mean = 0.0` and `std = 1.0` after few layers `W` will be saturated to `-1` and `1`. Gradients also be all `0`\n",
    "  \n",
    "### Should do\n",
    "- xavier initialization for `tanh`\n",
    "```\n",
    "W = np.random.randn(fan_in, fan_out) /np.sqrt(fan_in)\n",
    "```\n",
    "where `fan_in` - number of inputs\n",
    "  - it still decrease standard deviation but not so dramatic as previous\n",
    "  - it doesn't work for `ReLU` - decrese of standard deviation is much more rappid. Because `Relu` you 'kill' of distribution\n",
    "  \n",
    "- He et al. 2015\n",
    "```\n",
    "W = np.random.randn(fan_in, fan_out) /np.sqrt(fan_in / 2)\n",
    "```\n",
    "- biases set to zero "
   ]
  },
  {
   "cell_type": "markdown",
   "metadata": {},
   "source": [
    "## Batch normalization (Ioffe and Szegedy)\n",
    "just make unit gaussian activation\n",
    "$$\n",
    "\\hat{x}^{(k)} = \\frac{x^{(k)} - E[x^{(k)}]}{\\sqrt{Var[x^{(k)}]}}\n",
    "$$\n",
    "it works because it's completely (vanilla) differentiable function\n",
    "- for each feature independently\n",
    "- usage: `FC -> BN -> tanh -> FC -> BN -> tanh`. \n",
    "Because we are not sure that `tanh` would like gaussian on input. we shift and scale input:\n",
    "\n",
    "$$\n",
    "y^{(k)} = \\gamma^{(k)} \\hat{x}^{(k)} + \\beta^{(k)}\n",
    "$$.\n",
    "\n",
    "and learn thoese params. But it could learn to disable batch norm by getting:\n",
    "\n",
    "$$\n",
    "\\gamma^{(k)} = \\sqrt{Var[x^{(k)}]}\n",
    "$$\n",
    "$$\n",
    "\\beta^{(k)} = E[x^{(k)}]\n",
    "$$\n",
    "\n",
    "### Features\n",
    "- improves gradient flow through the network\n",
    "- allow higher learning rates\n",
    "- reduces the strong dependencies on initialization\n",
    "- act as a form of regularization in a funny way, and slightly reduces the need for dropout, maybe\n",
    "\n",
    "### Details\n",
    "- in test time mean/std are fixed and could be estimated during training with running averages - because we want more deterministic function."
   ]
  },
  {
   "cell_type": "markdown",
   "metadata": {},
   "source": [
    "# Sanity check of nn\n",
    "## check the loss function\n",
    "\n",
    "\n",
    "- for 10 classes, with W init by `mean = 0` and `std = 0.0001` and `reg = 0.0` it should ~ log(10).\n",
    "- with `reg = 1e3` it should going up\n",
    "\n",
    "## try to overfit small pease data\n",
    "- 20 examples, 10 labels\n",
    "- turn off regularization `reg = 0`\n",
    "- use vanilla `sgd`\n",
    "- loss should be near `0`. and `100%` accuracy\n",
    "\n",
    "## Hyper parameter optimization\n",
    "- tune  learning rate\n",
    "  - sometime cost decrease slowly but in contrast accuraccy step much quicker. The reason that accuracy just takes into account bigger score, but accuracy (in softmax) works with all scores, so they could be near each other but we already have right leaders\n",
    "- coarse -> fine\n",
    "- grid search -> random layout ([Random Search for Hyper-Parameter Optimization by Bergstra and Bengio](http://www.jmlr.org/papers/volume13/bergstra12a/bergstra12a.pdf))\n",
    "  - because usually one parameter is better than others so when we use grid search we just get much less data samples on the most significant parameter then if we randomize input a little bit\n",
    "- implementation in cluster: `worker` run the model for random hyperparameters and store the result to files, name of file reflect performance, `master` launch/kill the `worker`-s\n",
    "- usually developers prefer single validation set instead of cross-validation\n",
    "- use log scale range for learning rate, but linear scale for drop-out\n",
    "- start from wide range of parameters but less epoch (maybe 1) and then narrow range but increase epoches\n",
    "- _Bayesian Hyperparameter Optimization_ - more sophisticated way to search optimal hyperparameters doesn't show significant results for ConvNets. [Discussion](http://nlpers.blogspot.com/2014/10/hyperparameter-search-bayesian.html)\n",
    "\n",
    "### Evalution and Model Ensembles\n",
    "- the best hyper parameters for the single model but with different initialization (problem - less variation)\n",
    "- top few of hyperparameters (problem - could increase sub-optimal)\n",
    "- different checkpoint of a single model (proc - very cheap, cos - less variation)\n",
    "- _running average of parameters during training_\n",
    "- [Geoff Hinton on “Dark Knowledge”](https://www.youtube.com/watch?v=EK61htlw8hY) - _\"distill\" a good ensemble back to a single model by incorporating the ensemble log likelihoods into a modified objective._ \n",
    "  \n",
    "## Visualize process\n",
    "- for example visulize all loss functions on cluster\n",
    "  - https://lossfunctions.tumblr.com/ loss function could tell a lot\n",
    "- accuracy\n",
    "- different between parameters and scale of your update of those parameters \n",
    "  - it should be about 1e-3. (`dW * learning rate / W`)"
   ]
  },
  {
   "cell_type": "markdown",
   "metadata": {
    "collapsed": true
   },
   "source": [
    "# "
   ]
  }
 ],
 "metadata": {
  "kernelspec": {
   "display_name": "Python 3",
   "language": "python",
   "name": "python3"
  },
  "language_info": {
   "codemirror_mode": {
    "name": "ipython",
    "version": 3
   },
   "file_extension": ".py",
   "mimetype": "text/x-python",
   "name": "python",
   "nbconvert_exporter": "python",
   "pygments_lexer": "ipython3",
   "version": "3.6.3"
  }
 },
 "nbformat": 4,
 "nbformat_minor": 2
}
